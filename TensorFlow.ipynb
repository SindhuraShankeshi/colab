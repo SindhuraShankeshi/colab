{
  "nbformat": 4,
  "nbformat_minor": 0,
  "metadata": {
    "colab": {
      "provenance": [],
      "authorship_tag": "ABX9TyPHftvX89uVx73NXqZ1krv2",
      "include_colab_link": true
    },
    "kernelspec": {
      "name": "python3",
      "display_name": "Python 3"
    },
    "language_info": {
      "name": "python"
    }
  },
  "cells": [
    {
      "cell_type": "markdown",
      "metadata": {
        "id": "view-in-github",
        "colab_type": "text"
      },
      "source": [
        "<a href=\"https://colab.research.google.com/github/SindhuraShankeshi/colab/blob/main/TensorFlow.ipynb\" target=\"_parent\"><img src=\"https://colab.research.google.com/assets/colab-badge.svg\" alt=\"Open In Colab\"/></a>"
      ]
    },
    {
      "cell_type": "code",
      "execution_count": null,
      "metadata": {
        "colab": {
          "base_uri": "https://localhost:8080/"
        },
        "id": "d_qhXatbN-p_",
        "outputId": "12b4edda-caa3-4417-8742-e932b863ec4d"
      },
      "outputs": [
        {
          "output_type": "stream",
          "name": "stdout",
          "text": [
            "tf.Tensor(1.2, shape=(), dtype=float32)\n",
            "tf.Tensor(b'hello world', shape=(), dtype=string)\n",
            "tf.Tensor([1.2 3.2 6.5], shape=(3,), dtype=float32)\n",
            "tf.Tensor(3.1415927, shape=(), dtype=float32)\n",
            "tf.Tensor(False, shape=(), dtype=bool)\n"
          ]
        }
      ],
      "source": [
        "import tensorflow as tf\n",
        "import numpy as np\n",
        "a=tf.constant(1.2)\n",
        "print(a)\n",
        "b=tf.constant(\"hello world\")\n",
        "print(b)\n",
        "c=tf.constant([1.2,3.2,6.5])\n",
        "print(c)\n",
        "d=tf.constant(np.pi, dtype=tf.float32)\n",
        "print(d)\n",
        "e=tf.constant(False)\n",
        "print(e)"
      ]
    },
    {
      "cell_type": "code",
      "source": [
        "import tensorflow as tf\n",
        "a=tf.Variable([1.2,.32,.32])\n",
        "print(a)"
      ],
      "metadata": {
        "colab": {
          "base_uri": "https://localhost:8080/"
        },
        "id": "FkGR4CYBOPyI",
        "outputId": "8c7c96c0-03f6-43aa-bf92-bdc4d05bd396"
      },
      "execution_count": null,
      "outputs": [
        {
          "output_type": "stream",
          "name": "stdout",
          "text": [
            "<tf.Variable 'Variable:0' shape=(3,) dtype=float32, numpy=array([1.2 , 0.32, 0.32], dtype=float32)>\n"
          ]
        }
      ]
    },
    {
      "cell_type": "code",
      "source": [
        "import tensorflow as tf\n",
        "a=tf.convert_to_tensor(np.array([1,2,3,4]))\n",
        "print(a)"
      ],
      "metadata": {
        "colab": {
          "base_uri": "https://localhost:8080/"
        },
        "id": "3PAanPTZOTm2",
        "outputId": "cc723ca6-95b4-405a-eb1f-e5e68ae870ec"
      },
      "execution_count": null,
      "outputs": [
        {
          "output_type": "stream",
          "name": "stdout",
          "text": [
            "tf.Tensor([1 2 3 4], shape=(4,), dtype=int64)\n"
          ]
        }
      ]
    },
    {
      "cell_type": "code",
      "source": [
        "import tensorflow as tf\n",
        "a=tf.zeros([2,2])\n",
        "print(a)\n",
        "a=tf.ones([2,2])\n",
        "print(a)"
      ],
      "metadata": {
        "colab": {
          "base_uri": "https://localhost:8080/"
        },
        "id": "sbk5Rz20OWZg",
        "outputId": "b0bc9d9e-d056-4655-e7e7-3cee3ea3d653"
      },
      "execution_count": null,
      "outputs": [
        {
          "output_type": "stream",
          "name": "stdout",
          "text": [
            "tf.Tensor(\n",
            "[[0. 0.]\n",
            " [0. 0.]], shape=(2, 2), dtype=float32)\n",
            "tf.Tensor(\n",
            "[[1. 1.]\n",
            " [1. 1.]], shape=(2, 2), dtype=float32)\n"
          ]
        }
      ]
    },
    {
      "cell_type": "code",
      "source": [
        "import tensorflow as tf\n",
        "a=tf.zeros([2,2])\n",
        "print(a)\n",
        "a=tf.ones([2,2])\n",
        "print(a)"
      ],
      "metadata": {
        "colab": {
          "base_uri": "https://localhost:8080/"
        },
        "id": "0nNJj-wJObGo",
        "outputId": "c24ba0cc-f144-42d5-bccf-bd3ff8e57139"
      },
      "execution_count": null,
      "outputs": [
        {
          "output_type": "stream",
          "name": "stdout",
          "text": [
            "tf.Tensor(\n",
            "[[0. 0.]\n",
            " [0. 0.]], shape=(2, 2), dtype=float32)\n",
            "tf.Tensor(\n",
            "[[1. 1.]\n",
            " [1. 1.]], shape=(2, 2), dtype=float32)\n"
          ]
        }
      ]
    },
    {
      "cell_type": "code",
      "source": [
        "import tensorflow as tf\n",
        "a=tf.fill([1,2], 100)\n",
        "print(a)"
      ],
      "metadata": {
        "colab": {
          "base_uri": "https://localhost:8080/"
        },
        "id": "xAMzNM5wOeV2",
        "outputId": "1453e02a-82ae-4758-a45a-9ccbbf99f9b7"
      },
      "execution_count": null,
      "outputs": [
        {
          "output_type": "stream",
          "name": "stdout",
          "text": [
            "tf.Tensor([[100 100]], shape=(1, 2), dtype=int32)\n"
          ]
        }
      ]
    },
    {
      "cell_type": "code",
      "source": [
        "import tensorflow as tf\n",
        "a=tf.random.normal([2,2])\n",
        "print(a)\n",
        "a=tf.random.normal([2,2], mean=10, stddev=5)\n",
        "print(a)"
      ],
      "metadata": {
        "colab": {
          "base_uri": "https://localhost:8080/"
        },
        "id": "J3dlaYuSOjEZ",
        "outputId": "d92f6e1c-dc68-4c2e-a4a3-0f175223d8be"
      },
      "execution_count": null,
      "outputs": [
        {
          "output_type": "stream",
          "name": "stdout",
          "text": [
            "tf.Tensor(\n",
            "[[ 1.5072289 -0.6402206]\n",
            " [-1.2873403  1.2812856]], shape=(2, 2), dtype=float32)\n",
            "tf.Tensor(\n",
            "[[11.3834915  6.191373 ]\n",
            " [ 9.898272   4.0968156]], shape=(2, 2), dtype=float32)\n"
          ]
        }
      ]
    },
    {
      "cell_type": "code",
      "source": [
        "import tensorflow as tf\n",
        "a=tf.random.uniform([2,2])\n",
        "print(a)\n",
        "a=tf.random.uniform([2,2], maxval=456, dtype=tf.int32)\n",
        "print(a)"
      ],
      "metadata": {
        "colab": {
          "base_uri": "https://localhost:8080/"
        },
        "id": "luieZwWMOpR3",
        "outputId": "3a86f00c-d8d4-423d-ddd0-7f5de82d8ed7"
      },
      "execution_count": null,
      "outputs": [
        {
          "output_type": "stream",
          "name": "stdout",
          "text": [
            "tf.Tensor(\n",
            "[[0.00169575 0.6690422 ]\n",
            " [0.7874224  0.2627523 ]], shape=(2, 2), dtype=float32)\n",
            "tf.Tensor(\n",
            "[[285 148]\n",
            " [386 289]], shape=(2, 2), dtype=int32)\n"
          ]
        }
      ]
    },
    {
      "cell_type": "code",
      "source": [
        "import tensorflow as tf\n",
        "a=tf.range(5)\n",
        "print(a)\n",
        "a=tf.range(10, delta=3)\n",
        "print(a)\n",
        "a=tf.range(1,10,delta=5)\n",
        "print(a)"
      ],
      "metadata": {
        "colab": {
          "base_uri": "https://localhost:8080/"
        },
        "id": "8g9I48YTOuhT",
        "outputId": "c3ef51d7-a7bf-4eb9-8d8a-2fd5831e10b8"
      },
      "execution_count": null,
      "outputs": [
        {
          "output_type": "stream",
          "name": "stdout",
          "text": [
            "tf.Tensor([0 1 2 3 4], shape=(5,), dtype=int32)\n",
            "tf.Tensor([0 3 6 9], shape=(4,), dtype=int32)\n",
            "tf.Tensor([1 6], shape=(2,), dtype=int32)\n"
          ]
        }
      ]
    },
    {
      "cell_type": "code",
      "source": [
        "import tensorflow as tf\n",
        "out=tf.random.uniform([4,10])\n",
        "print(out)\n",
        "y=tf.constant([2,3,2,0])\n",
        "print(y)\n",
        "y=tf.one_hot(y, depth=10)\n",
        "print(y)\n",
        "loss=tf.keras.losses.mse(y, out)\n",
        "print(loss)\n",
        "loss=tf.reduce_mean(loss)\n",
        "print(loss)"
      ],
      "metadata": {
        "colab": {
          "base_uri": "https://localhost:8080/"
        },
        "id": "gtbfyCgOOxRp",
        "outputId": "cd432ff2-b5f8-4b32-9607-0a6a208a299d"
      },
      "execution_count": null,
      "outputs": [
        {
          "output_type": "stream",
          "name": "stdout",
          "text": [
            "tf.Tensor(\n",
            "[[0.6254883  0.14033604 0.12124288 0.21660912 0.18676937 0.6955571\n",
            "  0.29395235 0.09032238 0.38218546 0.19544601]\n",
            " [0.5766585  0.3850621  0.8225874  0.6393522  0.6040032  0.31567955\n",
            "  0.68405485 0.91151357 0.7762375  0.2585684 ]\n",
            " [0.99289215 0.38128233 0.4921837  0.9523934  0.01055086 0.5638852\n",
            "  0.9401541  0.3529035  0.9329032  0.26056015]\n",
            " [0.546015   0.28070676 0.6747359  0.8888624  0.00301003 0.69091666\n",
            "  0.6090064  0.8253888  0.48969424 0.5099218 ]], shape=(4, 10), dtype=float32)\n",
            "tf.Tensor([2 3 2 0], shape=(4,), dtype=int32)\n",
            "tf.Tensor(\n",
            "[[0. 0. 1. 0. 0. 0. 0. 0. 0. 0.]\n",
            " [0. 0. 0. 1. 0. 0. 0. 0. 0. 0.]\n",
            " [0. 0. 1. 0. 0. 0. 0. 0. 0. 0.]\n",
            " [1. 0. 0. 0. 0. 0. 0. 0. 0. 0.]], shape=(4, 10), dtype=float32)\n",
            "tf.Tensor([0.20275769 0.37201884 0.45608503 0.35595948], shape=(4,), dtype=float32)\n",
            "tf.Tensor(0.34670526, shape=(), dtype=float32)\n"
          ]
        }
      ]
    },
    {
      "cell_type": "code",
      "source": [
        "import tensorflow as tf\n",
        "a=tf.random.normal([3,3])\n",
        "print(a)\n",
        "b=tf.ones([3])\n",
        "print(b)\n",
        "print(a+b)"
      ],
      "metadata": {
        "colab": {
          "base_uri": "https://localhost:8080/"
        },
        "id": "9EBqkWGFO0sQ",
        "outputId": "1814fd22-924f-4b53-e296-7b1d38e2df3a"
      },
      "execution_count": null,
      "outputs": [
        {
          "output_type": "stream",
          "name": "stdout",
          "text": [
            "tf.Tensor(\n",
            "[[ 0.51273626 -0.31226388  0.11204689]\n",
            " [-0.16071549  0.59211075 -2.7941232 ]\n",
            " [-0.00561081 -0.26411554  0.16538672]], shape=(3, 3), dtype=float32)\n",
            "tf.Tensor([1. 1. 1.], shape=(3,), dtype=float32)\n",
            "tf.Tensor(\n",
            "[[ 1.5127363   0.68773615  1.1120468 ]\n",
            " [ 0.83928454  1.5921108  -1.7941232 ]\n",
            " [ 0.9943892   0.7358844   1.1653867 ]], shape=(3, 3), dtype=float32)\n"
          ]
        }
      ]
    },
    {
      "cell_type": "code",
      "source": [
        "import tensorflow as tf\n",
        "a=tf.random.uniform([2,2])\n",
        "b=tf.zeros([2,2])\n",
        "c=tf.ones([2,2])\n",
        "print(a@b+c)"
      ],
      "metadata": {
        "colab": {
          "base_uri": "https://localhost:8080/"
        },
        "id": "s8UQpUOnO5ou",
        "outputId": "41ee24ff-e066-42a4-e79c-61e1b130c9b0"
      },
      "execution_count": null,
      "outputs": [
        {
          "output_type": "stream",
          "name": "stdout",
          "text": [
            "tf.Tensor(\n",
            "[[1. 1.]\n",
            " [1. 1.]], shape=(2, 2), dtype=float32)\n"
          ]
        }
      ]
    },
    {
      "cell_type": "code",
      "source": [
        "import tensorflow as tf\n",
        "x=tf.random.normal([4,32,32,3]) # 4 images 32*32 pixels each pixel 3 values\n",
        "print(x)\n",
        "print(x[0][1][2]) # 0th image 0th row 2nd col "
      ],
      "metadata": {
        "colab": {
          "base_uri": "https://localhost:8080/"
        },
        "id": "KXtqXPk3O8kL",
        "outputId": "d9d92647-d2ee-4ba2-f568-028e9b267e80"
      },
      "execution_count": null,
      "outputs": [
        {
          "output_type": "stream",
          "name": "stdout",
          "text": [
            "tf.Tensor(\n",
            "[[[[ 4.08951610e-01 -5.45497656e-01 -5.25506325e-02]\n",
            "   [-1.11508799e+00  1.35048062e-01 -2.65283197e-01]\n",
            "   [ 2.68119335e-01  1.40142000e+00 -1.48697209e+00]\n",
            "   ...\n",
            "   [ 1.39640021e+00  3.29776257e-01  8.41126621e-01]\n",
            "   [ 5.52806258e-01  2.60544372e+00  1.39818859e+00]\n",
            "   [-1.22690320e-01 -6.95493221e-01  5.51843584e-01]]\n",
            "\n",
            "  [[ 1.20613027e+00  9.98574197e-01 -1.33174613e-01]\n",
            "   [ 1.56130657e-01 -1.75567758e+00 -1.87850845e+00]\n",
            "   [ 9.04752135e-01  7.60453522e-01 -1.57283306e-01]\n",
            "   ...\n",
            "   [-5.85957915e-02  9.40635800e-01 -1.18450534e+00]\n",
            "   [ 4.36437011e-01  8.16004574e-01 -9.74604428e-01]\n",
            "   [ 1.17737389e+00 -1.36478889e+00 -1.58202574e-01]]\n",
            "\n",
            "  [[-1.03883195e+00 -3.14561397e-01  1.72869474e-01]\n",
            "   [ 1.67603946e+00 -8.54462087e-01 -1.19191122e+00]\n",
            "   [ 1.47833422e-01  5.20803988e-01  3.33041072e-01]\n",
            "   ...\n",
            "   [ 1.55293620e+00  2.60477573e-01 -1.98266363e+00]\n",
            "   [ 1.93252057e-01  1.42096972e+00 -2.64236689e-01]\n",
            "   [-1.31531453e+00  6.21747077e-02  4.33795780e-01]]\n",
            "\n",
            "  ...\n",
            "\n",
            "  [[ 1.69157755e+00  3.84084314e-01 -5.96783221e-01]\n",
            "   [-1.10162973e+00 -5.83702922e-01  1.06631780e+00]\n",
            "   [ 5.16261101e-01  5.62651515e-01  8.72482955e-01]\n",
            "   ...\n",
            "   [ 6.34189606e-01  2.51749247e-01 -5.39109528e-01]\n",
            "   [-1.68801522e+00  1.50482309e+00  2.16120839e+00]\n",
            "   [ 1.36300433e+00 -3.54162306e-01  1.26461017e+00]]\n",
            "\n",
            "  [[ 1.93166751e-02 -6.52824700e-01  6.57573417e-02]\n",
            "   [-2.00393987e+00 -2.96862215e-01 -9.10216808e-01]\n",
            "   [-9.33722079e-01  1.32745087e+00 -2.93832213e-01]\n",
            "   ...\n",
            "   [-4.84621316e-01  5.33400536e-01 -2.10595280e-01]\n",
            "   [ 5.34269691e-01  1.95287213e-01  2.29255009e+00]\n",
            "   [-6.72201693e-01 -1.19284332e+00 -1.15801167e+00]]\n",
            "\n",
            "  [[-8.04688811e-01 -3.13998073e-01  9.51197863e-01]\n",
            "   [ 3.47536504e-01  5.74216843e-02  1.27574968e+00]\n",
            "   [ 1.10161626e+00 -9.49066758e-01  6.19196780e-02]\n",
            "   ...\n",
            "   [-9.45447922e-01  6.92951024e-01 -3.50756764e-01]\n",
            "   [-5.83640933e-01 -2.11974144e-01 -3.62625986e-01]\n",
            "   [-8.28390598e-01 -2.79000133e-01  1.51879919e+00]]]\n",
            "\n",
            "\n",
            " [[[-1.38914406e+00  1.11818838e+00 -3.10701191e-01]\n",
            "   [ 1.38691890e+00  1.90816820e-01 -7.64877141e-01]\n",
            "   [ 8.46209288e-01 -1.41589284e+00  6.08679831e-01]\n",
            "   ...\n",
            "   [ 1.25705016e+00  1.67956984e+00  2.43176079e+00]\n",
            "   [-1.14707127e-01  9.09190178e-01  8.72884214e-01]\n",
            "   [-1.38584375e+00  2.18685222e+00  8.60056728e-02]]\n",
            "\n",
            "  [[-1.59158123e+00 -6.16790727e-02  5.45572817e-01]\n",
            "   [ 1.58952385e-01  1.11854041e+00  1.30109274e+00]\n",
            "   [-3.06727380e-01  1.24693179e+00  5.03021419e-01]\n",
            "   ...\n",
            "   [ 8.57580975e-02  4.39403802e-02  9.25339520e-01]\n",
            "   [-1.61578864e-01  2.66330242e-01 -8.91005278e-01]\n",
            "   [-6.87125325e-01  8.45580935e-01 -1.56776559e+00]]\n",
            "\n",
            "  [[-2.82682270e-01  1.20253474e-01 -4.75485295e-01]\n",
            "   [-1.88735926e+00 -1.29331481e+00 -1.27883896e-01]\n",
            "   [ 5.73000431e-01 -1.37372449e-01 -9.55329001e-01]\n",
            "   ...\n",
            "   [-1.10567904e+00  6.35735333e-01  7.30733037e-01]\n",
            "   [-9.45837140e-01  8.56187344e-01  3.37615550e-01]\n",
            "   [-3.81003171e-01 -1.38706937e-01 -1.21619153e+00]]\n",
            "\n",
            "  ...\n",
            "\n",
            "  [[ 1.79843569e+00 -3.92867804e-01 -8.30983698e-01]\n",
            "   [-1.55819964e+00 -4.87666368e-01  9.60653126e-02]\n",
            "   [ 6.78205729e-01 -1.99492127e-01 -1.30695200e+00]\n",
            "   ...\n",
            "   [ 1.61311400e+00  3.64949018e-01 -1.09959805e+00]\n",
            "   [ 2.27288887e-01 -9.09708977e-01  3.37788165e-01]\n",
            "   [ 1.50505114e+00 -3.08980465e-01 -8.39969039e-01]]\n",
            "\n",
            "  [[-1.20194578e+00 -8.62496614e-01 -2.59904307e-03]\n",
            "   [-2.10921001e+00  1.91015694e-02  5.53479731e-01]\n",
            "   [ 1.12347412e+00  1.53157163e+00  9.55421090e-01]\n",
            "   ...\n",
            "   [-1.25703722e-01 -7.03967154e-01  5.77433884e-01]\n",
            "   [-1.42876291e+00  1.03299582e+00 -3.41026235e+00]\n",
            "   [-6.14614487e-01 -7.59117186e-01  3.13638121e-01]]\n",
            "\n",
            "  [[ 4.40517962e-01  1.53883696e-01 -9.46314633e-01]\n",
            "   [-9.97512221e-01 -1.22701097e-02 -6.61887348e-01]\n",
            "   [-6.58356324e-02 -9.68552887e-01 -1.74530649e+00]\n",
            "   ...\n",
            "   [-7.90161267e-02 -1.86712801e+00 -1.21794319e+00]\n",
            "   [-1.78263821e-02  2.04879951e+00  5.05513132e-01]\n",
            "   [-7.76703596e-01  7.71065176e-01 -2.84750223e-01]]]\n",
            "\n",
            "\n",
            " [[[-1.51411504e-01 -1.28837502e+00 -1.75116444e+00]\n",
            "   [-8.70903194e-01  9.63737130e-01  8.42330456e-01]\n",
            "   [-2.07927322e+00  1.72237098e+00  4.11805212e-02]\n",
            "   ...\n",
            "   [-6.04775995e-02 -1.40752986e-01  1.08877671e+00]\n",
            "   [ 6.80692792e-01  4.31848280e-02 -1.16526306e+00]\n",
            "   [ 3.28076625e+00  5.02599895e-01  6.29977465e-01]]\n",
            "\n",
            "  [[ 3.67031336e-01  6.72298968e-01 -9.43081856e-01]\n",
            "   [ 8.93394928e-03 -1.22387886e+00 -4.22320962e-01]\n",
            "   [-5.15927017e-01  8.99580896e-01 -1.87321201e-01]\n",
            "   ...\n",
            "   [ 4.19039965e-01 -6.19859278e-01  1.88717949e+00]\n",
            "   [ 1.47915971e+00  1.02307236e+00 -1.35969311e-01]\n",
            "   [ 1.16474688e+00 -5.12118697e-01  1.64487645e-01]]\n",
            "\n",
            "  [[ 7.84278154e-01 -7.32504666e-01  6.18222833e-01]\n",
            "   [-1.21896052e+00 -7.38913298e-01 -8.59897614e-01]\n",
            "   [-6.35054529e-01 -1.02230453e+00  1.59777474e+00]\n",
            "   ...\n",
            "   [ 2.16447473e+00  7.53445327e-01  1.64307702e+00]\n",
            "   [-4.93914515e-01 -6.81747973e-01  1.63435459e-01]\n",
            "   [ 1.31647933e+00  1.94065586e-01 -2.65078217e-01]]\n",
            "\n",
            "  ...\n",
            "\n",
            "  [[-2.24839091e+00 -1.51541963e-01  2.07707658e-01]\n",
            "   [-3.64961714e-01 -2.98642039e-01 -1.72432959e+00]\n",
            "   [ 2.09197715e-01  4.21064615e-01  3.86154771e-01]\n",
            "   ...\n",
            "   [-1.07649899e+00  1.28151846e+00 -9.60302353e-01]\n",
            "   [-1.17377329e+00 -2.21212268e+00  3.59027207e-01]\n",
            "   [ 6.49696589e-01 -4.43632424e-01 -5.96929073e-01]]\n",
            "\n",
            "  [[-1.01301765e+00 -6.93073750e-01 -8.50375369e-02]\n",
            "   [ 7.72703588e-01  9.38499093e-01  1.62850344e+00]\n",
            "   [-7.57355869e-01  1.88979566e+00 -4.19965714e-01]\n",
            "   ...\n",
            "   [-8.77835035e-01 -1.67451930e+00  1.28763154e-01]\n",
            "   [ 3.78362507e-01  3.90815377e-01  1.64936364e+00]\n",
            "   [-4.10092831e-01  1.61921823e+00 -5.14019653e-02]]\n",
            "\n",
            "  [[ 5.68233669e-01  2.40022391e-01 -7.54648089e-01]\n",
            "   [-9.69314694e-01  7.07023069e-02 -2.15574235e-01]\n",
            "   [ 1.13411069e+00 -1.37003183e-01  4.21916656e-02]\n",
            "   ...\n",
            "   [-9.35849905e-01 -1.26495212e-01 -1.75187075e+00]\n",
            "   [ 5.31681240e-01  1.10259810e-02 -1.52352560e+00]\n",
            "   [-1.85520554e+00 -8.66192043e-01  3.37549567e-01]]]\n",
            "\n",
            "\n",
            " [[[-4.45749387e-02  3.50480258e-01 -1.16873407e+00]\n",
            "   [ 1.39902413e+00  1.32425809e+00 -1.55528113e-01]\n",
            "   [ 8.51454139e-01  1.90434766e+00  9.68099713e-01]\n",
            "   ...\n",
            "   [-3.69939864e-01 -1.37417221e+00 -7.77567744e-01]\n",
            "   [-7.81397104e-01  1.34515822e-01 -1.85778558e+00]\n",
            "   [ 4.27042805e-02 -2.02495551e+00  1.19673884e+00]]\n",
            "\n",
            "  [[ 2.49221280e-01 -5.11543274e-01 -3.87323737e-01]\n",
            "   [ 5.12770891e-01 -1.01308978e+00  3.59892726e-01]\n",
            "   [ 2.29885682e-01  1.81116536e-01 -2.88667709e-01]\n",
            "   ...\n",
            "   [ 1.50822294e+00  2.54192591e-01  5.01991570e-01]\n",
            "   [-8.27123106e-01  7.23554611e-01  8.66051376e-01]\n",
            "   [-9.91752744e-03  9.95291650e-01  4.92189050e-01]]\n",
            "\n",
            "  [[ 4.68466192e-01 -1.37521756e+00  1.44217527e+00]\n",
            "   [-2.49181956e-01  3.91234905e-01  2.01059484e+00]\n",
            "   [-7.86673725e-01 -3.89112495e-02  2.39558220e+00]\n",
            "   ...\n",
            "   [-1.17049849e+00  1.03807843e+00  1.05269587e+00]\n",
            "   [-1.30070662e+00 -1.16968417e+00 -4.30486262e-01]\n",
            "   [-2.66295016e-01 -1.24328256e+00  1.30335653e+00]]\n",
            "\n",
            "  ...\n",
            "\n",
            "  [[-1.64963984e+00 -1.79130465e-01 -1.25255620e+00]\n",
            "   [-9.63011086e-01 -6.44010305e-01  1.21502757e+00]\n",
            "   [ 8.74612093e-01 -9.38915908e-02 -1.24844956e+00]\n",
            "   ...\n",
            "   [-1.11574559e-02  1.24853456e+00  8.44344497e-01]\n",
            "   [ 5.55842333e-02  5.67603052e-01 -9.64127362e-01]\n",
            "   [ 7.84005165e-01 -2.14120841e+00  1.16225505e+00]]\n",
            "\n",
            "  [[ 1.63201785e+00  5.35200536e-01  1.00057624e-01]\n",
            "   [ 1.30011582e+00 -6.79995656e-01 -8.98428023e-01]\n",
            "   [-1.97775590e+00 -5.29989481e-01  5.05728960e-01]\n",
            "   ...\n",
            "   [ 1.14623690e+00  3.91046673e-01 -8.87316644e-01]\n",
            "   [ 9.18557107e-01  2.88567972e+00  3.70462477e-01]\n",
            "   [-3.96511704e-01 -8.79714608e-01 -3.90790373e-01]]\n",
            "\n",
            "  [[-1.22336805e+00  1.14389074e+00  6.60842478e-01]\n",
            "   [ 1.77006793e+00 -6.19760871e-01  1.27324855e+00]\n",
            "   [-1.19950628e+00  6.76517308e-01 -1.00435507e+00]\n",
            "   ...\n",
            "   [ 4.57699150e-01  1.88471127e+00 -1.37969875e+00]\n",
            "   [ 4.88225877e-01 -3.19039047e-01  1.38878906e+00]\n",
            "   [-1.53112614e+00  8.43191817e-02  5.42681336e-01]]]], shape=(4, 32, 32, 3), dtype=float32)\n",
            "tf.Tensor([ 0.90475214  0.7604535  -0.1572833 ], shape=(3,), dtype=float32)\n"
          ]
        }
      ]
    },
    {
      "cell_type": "code",
      "source": [
        "import tensorflow as tf\n",
        "# start:end:step Read from “start” to “end” (excluding) with step length of “step.”\n",
        "# start:end Read from “start” to “end” (excluding) with step length of 1.\n",
        "# start: Read from “start” to the end of object with step length of 1.\n",
        "# start::step Read from “start” to the end of object with step length of “step.”\n",
        "# :end:step Read from the 0th item to “end” (excluding) with step length of “step.”\n",
        "# :end Read from 0th item to “end” (excluding) with step length of 1.\n",
        "# ::step Read from 0th item to the last item with step length of “step.”\n",
        "# :: Read all items.\n",
        "# : Read all items\n",
        "x=tf.random.normal([3,3])\n",
        "print(x[::])"
      ],
      "metadata": {
        "colab": {
          "base_uri": "https://localhost:8080/"
        },
        "id": "AkUyjESaPASR",
        "outputId": "01aeabac-59df-4a9a-ab35-4333a49d3390"
      },
      "execution_count": null,
      "outputs": [
        {
          "output_type": "stream",
          "name": "stdout",
          "text": [
            "tf.Tensor(\n",
            "[[ 1.3391551  -0.04859175 -2.1052139 ]\n",
            " [ 1.9858811  -0.5018503   1.0182652 ]\n",
            " [-0.893274    0.79782635 -0.2149153 ]], shape=(3, 3), dtype=float32)\n"
          ]
        }
      ]
    },
    {
      "cell_type": "code",
      "source": [
        "import tensorflow as tf\n",
        "# a,⋯,b Select 0 to a for dimension a, b to end for dimension b, and all elements \n",
        "# for other dimensions.\n",
        "# a,⋯ Select 0 to a for dimension a and all elements for other dimensions.\n",
        "# ⋯,b Select b to end for dimension b and all elements for other dimensions.\n",
        "# ⋯ Read all elements.\n",
        "x=tf.random.normal([3,3])\n",
        "print(x[...])"
      ],
      "metadata": {
        "colab": {
          "base_uri": "https://localhost:8080/"
        },
        "id": "Uya6pqtBPEKM",
        "outputId": "05cb0691-cfaa-4921-b9df-79cbbeade0dd"
      },
      "execution_count": null,
      "outputs": [
        {
          "output_type": "stream",
          "name": "stdout",
          "text": [
            "tf.Tensor(\n",
            "[[-0.7980877  -1.3078605   1.1941855 ]\n",
            " [ 0.19867878 -0.13885738  0.27221322]\n",
            " [ 0.375359    0.4585931  -1.0983262 ]], shape=(3, 3), dtype=float32)\n"
          ]
        }
      ]
    },
    {
      "cell_type": "code",
      "source": [
        "import tensorflow as tf\n",
        "x=tf.range(10)\n",
        "print(x)\n",
        "x=tf.reshape(x, [2,5])\n",
        "print(x)"
      ],
      "metadata": {
        "colab": {
          "base_uri": "https://localhost:8080/"
        },
        "id": "ivfl4vpuPGx9",
        "outputId": "335fa4d8-3dba-4530-ba0d-c63be3d5bf0c"
      },
      "execution_count": null,
      "outputs": [
        {
          "output_type": "stream",
          "name": "stdout",
          "text": [
            "tf.Tensor([0 1 2 3 4 5 6 7 8 9], shape=(10,), dtype=int32)\n",
            "tf.Tensor(\n",
            "[[0 1 2 3 4]\n",
            " [5 6 7 8 9]], shape=(2, 5), dtype=int32)\n"
          ]
        }
      ]
    },
    {
      "cell_type": "code",
      "source": [
        "import tensorflow as tf\n",
        "x=tf.random.uniform([5,5],maxval=10,dtype=tf.int32)\n",
        "print(x)\n",
        "x=tf.expand_dims(x, axis=1)\n",
        "print(x)\n",
        "x=tf.squeeze(x, axis=1)\n",
        "print(x)"
      ],
      "metadata": {
        "colab": {
          "base_uri": "https://localhost:8080/"
        },
        "id": "czkWKptDPJ2V",
        "outputId": "897e7c2b-d522-47f5-dd05-dfc83894a0cb"
      },
      "execution_count": null,
      "outputs": [
        {
          "output_type": "stream",
          "name": "stdout",
          "text": [
            "tf.Tensor(\n",
            "[[8 9 1 4 3]\n",
            " [0 6 0 5 3]\n",
            " [6 4 3 6 6]\n",
            " [9 2 6 7 3]\n",
            " [7 8 8 5 2]], shape=(5, 5), dtype=int32)\n",
            "tf.Tensor(\n",
            "[[[8 9 1 4 3]]\n",
            "\n",
            " [[0 6 0 5 3]]\n",
            "\n",
            " [[6 4 3 6 6]]\n",
            "\n",
            " [[9 2 6 7 3]]\n",
            "\n",
            " [[7 8 8 5 2]]], shape=(5, 1, 5), dtype=int32)\n",
            "tf.Tensor(\n",
            "[[8 9 1 4 3]\n",
            " [0 6 0 5 3]\n",
            " [6 4 3 6 6]\n",
            " [9 2 6 7 3]\n",
            " [7 8 8 5 2]], shape=(5, 5), dtype=int32)\n"
          ]
        }
      ]
    },
    {
      "cell_type": "code",
      "source": [
        "import tensorflow as tf\n",
        "x=tf.random.uniform([2,4])\n",
        "print(x)\n",
        "x=tf.transpose(x, perm=[1,0])\n",
        "print(x)"
      ],
      "metadata": {
        "colab": {
          "base_uri": "https://localhost:8080/"
        },
        "id": "U_3Y6eunPMw1",
        "outputId": "8d9bf419-0ae3-4c48-875d-87591cea9018"
      },
      "execution_count": null,
      "outputs": [
        {
          "output_type": "stream",
          "name": "stdout",
          "text": [
            "tf.Tensor(\n",
            "[[0.14525664 0.8481531  0.23620391 0.7944852 ]\n",
            " [0.35636652 0.465423   0.8993703  0.8069091 ]], shape=(2, 4), dtype=float32)\n",
            "tf.Tensor(\n",
            "[[0.14525664 0.35636652]\n",
            " [0.8481531  0.465423  ]\n",
            " [0.23620391 0.8993703 ]\n",
            " [0.7944852  0.8069091 ]], shape=(4, 2), dtype=float32)\n"
          ]
        }
      ]
    },
    {
      "cell_type": "code",
      "source": [
        "import tensorflow as tf\n",
        "x=tf.constant([[1,2]])\n",
        "print(x)\n",
        "y=tf.tile(x, multiples=[2,1])\n",
        "print(y)\n",
        "z=tf.tile(x, multiples=[1,2])\n",
        "print(z)"
      ],
      "metadata": {
        "colab": {
          "base_uri": "https://localhost:8080/"
        },
        "id": "HJX0xBRfPPsf",
        "outputId": "cfe14619-04eb-4e8c-be63-b4bcc7c4c004"
      },
      "execution_count": null,
      "outputs": [
        {
          "output_type": "stream",
          "name": "stdout",
          "text": [
            "tf.Tensor([[1 2]], shape=(1, 2), dtype=int32)\n",
            "tf.Tensor(\n",
            "[[1 2]\n",
            " [1 2]], shape=(2, 2), dtype=int32)\n",
            "tf.Tensor([[1 2 1 2]], shape=(1, 4), dtype=int32)\n"
          ]
        }
      ]
    }
  ]
}