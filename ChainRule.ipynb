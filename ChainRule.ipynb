{
  "nbformat": 4,
  "nbformat_minor": 0,
  "metadata": {
    "colab": {
      "provenance": [],
      "authorship_tag": "ABX9TyPnEFYTF4lgPVwmfp41RnFK",
      "include_colab_link": true
    },
    "kernelspec": {
      "name": "python3",
      "display_name": "Python 3"
    },
    "language_info": {
      "name": "python"
    }
  },
  "cells": [
    {
      "cell_type": "markdown",
      "metadata": {
        "id": "view-in-github",
        "colab_type": "text"
      },
      "source": [
        "<a href=\"https://colab.research.google.com/github/SindhuraShankeshi/colab/blob/main/ChainRule.ipynb\" target=\"_parent\"><img src=\"https://colab.research.google.com/assets/colab-badge.svg\" alt=\"Open In Colab\"/></a>"
      ]
    },
    {
      "cell_type": "code",
      "source": [
        "import tensorflow as tf\n",
        "# Create vectors\n",
        "x = tf.constant(1.)\n",
        "w1 = tf.constant(2.)\n",
        "b1 = tf.constant(1.)\n",
        "w2 = tf.constant(2.)\n",
        "b2 = tf.constant(1.)\n",
        "# Create gradient recorder\n",
        "with tf.GradientTape(persistent=True) as tape:\n",
        "# Manually record gradient info for non-tf.Variable variables\n",
        "  tape.watch([w1, b1, w2, b2])\n",
        "# Create two layer neural network\n",
        "  y1 = x * w1 + b1\n",
        "  y2 = y1 * w2 + b2\n",
        "# Solve partial derivatives\n",
        "dy2_dy1 = tape.gradient(y2, [y1])[0]\n",
        "dy1_dw1 = tape.gradient(y1, [w1])[0]\n",
        "dy2_dw1 = tape.gradient(y2, [w1])[0]\n",
        "# Valdiate chain rule\n",
        "print(dy2_dy1 * dy1_dw1)\n",
        "print(dy2_dw1)"
      ],
      "metadata": {
        "colab": {
          "base_uri": "https://localhost:8080/"
        },
        "id": "4neeXOC7tocJ",
        "outputId": "c1535799-7fab-4083-b2e8-2b48c1da08c5"
      },
      "execution_count": 24,
      "outputs": [
        {
          "output_type": "stream",
          "name": "stdout",
          "text": [
            "tf.Tensor(2.0, shape=(), dtype=float32)\n",
            "tf.Tensor(2.0, shape=(), dtype=float32)\n"
          ]
        }
      ]
    }
  ]
}